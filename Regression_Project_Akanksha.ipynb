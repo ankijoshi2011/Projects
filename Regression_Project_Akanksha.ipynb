{
  "nbformat": 4,
  "nbformat_minor": 0,
  "metadata": {
    "colab": {
      "private_outputs": true,
      "provenance": [],
      "collapsed_sections": [
        "vncDsAP0Gaoa",
        "FJNUwmbgGyua",
        "w6K7xa23Elo4",
        "yQaldy8SH6Dl",
        "mDgbUHAGgjLW",
        "HhfV-JJviCcP",
        "nA9Y7ga8ng1Z",
        "dauF4eBmngu3",
        "GF8Ens_Soomf",
        "t6dVpIINYklI",
        "ijmpgYnKYklI",
        "-JiQyfWJYklI",
        "fge-S5ZAYoAp",
        "85gYPyotYoAp",
        "RoGjAbkUYoAp",
        "F6T5p64dYrdO",
        "y-Ehk30pYrdP",
        "QHF8YVU7Yuh3",
        "GwzvFGzlYuh3",
        "_ouA3fa0phqN",
        "Seke61FWphqN",
        "EXh0U9oCveiU",
        "g-ATYxFrGrvw",
        "yLjJCtPM0KBk",
        "qjKvONjwE8ra",
        "yiiVWRdJDDil",
        "-Kee-DAl2viO",
        "gIfDvo9L0UH2"
      ]
    },
    "kernelspec": {
      "name": "python3",
      "display_name": "Python 3"
    },
    "language_info": {
      "name": "python"
    }
  },
  "cells": [
    {
      "cell_type": "markdown",
      "source": [
        "# **Project Name**    -\n",
        "\n"
      ],
      "metadata": {
        "id": "vncDsAP0Gaoa"
      }
    },
    {
      "cell_type": "markdown",
      "source": [
        "##### **Project Type**    - Regression\n",
        "\n",
        "\n",
        "##### **Akanksha Joshi - Individual**"
      ],
      "metadata": {
        "id": "beRrZCGUAJYm"
      }
    },
    {
      "cell_type": "markdown",
      "source": [
        "# **Project Summary -**"
      ],
      "metadata": {
        "id": "FJNUwmbgGyua"
      }
    },
    {
      "cell_type": "markdown",
      "source": [
        "We know how Ola and Uber have brought revolution in the mobility and transportation industry by supplying Cabs, however providing rental bikes is much better option as this is much cost effective compared to the rental cab services and also fit for the solo travellers and protects environment.\n",
        "\n",
        "This should be much promoted for welfare of the society economically, environmental wise, time saviour and for that we need to have a check if enough bikes will be available as per growing demand in the market.\n",
        "\n",
        "Here is a project that provides solution for the above problem. primary objective of this project is to develop a predictive model capable of forecasting the number of bikes needed for users in each hour. This model will leverage the past data and incorporate various factors such as time of day, weather conditions, and seasonal variations to accurately predict bike demand patterns.\n",
        "\n",
        "To address this challenge, I have been given datasets containing essential features, such as Date, Rented Bike counts, hour, Temperature, Rainfall, Snowfall, Seasons, and more. My task involves exploring and analyzing this data, including data cleaning, duplicate removal, and feature engineering, to create meaningful predictors for the predictive model.\n",
        "\n",
        "The successful implementation of the predictive model will empower rental bike services to offer bikes when and where the public needs them the most, leading to reduced waiting times and enhanced mobility comfort for urban residents. Moreover, this approach can encourage more individuals to adopt sustainable transportation options, contributing to a greener and more efficient urban environment.\n",
        "\n",
        "In addition, the bike sharing demand prediction project focuses on creating a machine learning model that accurately forecasts bike sharing demand based on multiple features, such as temperature, hour of the day, humidity, functioning day, and season. The ultimate goal is to help bike sharing companies optimize their operations, allocate resources efficiently, and enhance the overall user experience.\n",
        "\n",
        "Throughout the project, critical steps were undertaken, starting with data collection from reliable sources, including historical bike sharing demand data and relevant features. The collected data underwent rigorous preprocessing, handling missing values, outliers, and inconsistencies. Furthermore, exploratory data analysis was conducted to gain insights into the data and identify patterns and trends that might impact bike sharing demand."
      ],
      "metadata": {
        "id": "F6v_1wHtG2nS"
      }
    },
    {
      "cell_type": "markdown",
      "source": [
        "# **GitHub Link -**"
      ],
      "metadata": {
        "id": "w6K7xa23Elo4"
      }
    },
    {
      "cell_type": "markdown",
      "source": [
        "Provide your GitHub Link here."
      ],
      "metadata": {
        "id": "h1o69JH3Eqqn"
      }
    },
    {
      "cell_type": "markdown",
      "source": [
        "# **Problem Statement**\n"
      ],
      "metadata": {
        "id": "yQaldy8SH6Dl"
      }
    },
    {
      "cell_type": "markdown",
      "source": [
        "**To provide a regression model for predection of bike needed every hour as per season, weather condition, weekoff etc.**"
      ],
      "metadata": {
        "id": "DpeJGUA3kjGy"
      }
    },
    {
      "cell_type": "markdown",
      "source": [
        "# **General Guidelines** : -  "
      ],
      "metadata": {
        "id": "mDgbUHAGgjLW"
      }
    },
    {
      "cell_type": "markdown",
      "source": [
        "1.   Well-structured, formatted, and commented code is required.\n",
        "2.   Exception Handling, Production Grade Code & Deployment Ready Code will be a plus. Those students will be awarded some additional credits.\n",
        "     \n",
        "     The additional credits will have advantages over other students during Star Student selection.\n",
        "       \n",
        "             [ Note: - Deployment Ready Code is defined as, the whole .ipynb notebook should be executable in one go\n",
        "                       without a single error logged. ]\n",
        "\n",
        "3.   Each and every logic should have proper comments.\n",
        "4. You may add as many number of charts you want. Make Sure for each and every chart the following format should be answered.\n",
        "        \n",
        "\n",
        "```\n",
        "# Chart visualization code\n",
        "```\n",
        "            \n",
        "\n",
        "*   Why did you pick the specific chart?\n",
        "*   What is/are the insight(s) found from the chart?\n",
        "* Will the gained insights help creating a positive business impact?\n",
        "Are there any insights that lead to negative growth? Justify with specific reason.\n",
        "\n",
        "5. You have to create at least 15 logical & meaningful charts having important insights.\n",
        "\n",
        "\n",
        "[ Hints : - Do the Vizualization in  a structured way while following \"UBM\" Rule.\n",
        "\n",
        "U - Univariate Analysis,\n",
        "\n",
        "B - Bivariate Analysis (Numerical - Categorical, Numerical - Numerical, Categorical - Categorical)\n",
        "\n",
        "M - Multivariate Analysis\n",
        " ]\n",
        "\n",
        "\n",
        "\n",
        "\n",
        "\n",
        "6. You may add more ml algorithms for model creation. Make sure for each and every algorithm, the following format should be answered.\n",
        "\n",
        "\n",
        "*   Explain the ML Model used and it's performance using Evaluation metric Score Chart.\n",
        "\n",
        "\n",
        "*   Cross- Validation & Hyperparameter Tuning\n",
        "\n",
        "*   Have you seen any improvement? Note down the improvement with updates Evaluation metric Score Chart.\n",
        "\n",
        "*   Explain each evaluation metric's indication towards business and the business impact pf the ML model used.\n",
        "\n",
        "\n",
        "\n",
        "\n",
        "\n",
        "\n",
        "\n",
        "\n",
        "\n",
        "\n",
        "\n",
        "\n",
        "\n",
        "\n",
        "\n",
        "\n",
        "\n",
        "\n"
      ],
      "metadata": {
        "id": "ZrxVaUj-hHfC"
      }
    },
    {
      "cell_type": "markdown",
      "source": [
        "# ***Let's Begin !***"
      ],
      "metadata": {
        "id": "O_i_v8NEhb9l"
      }
    },
    {
      "cell_type": "markdown",
      "source": [
        "## ***1. Know Your Data***"
      ],
      "metadata": {
        "id": "HhfV-JJviCcP"
      }
    },
    {
      "cell_type": "markdown",
      "source": [
        "### Import Libraries"
      ],
      "metadata": {
        "id": "Y3lxredqlCYt"
      }
    },
    {
      "cell_type": "code",
      "source": [
        "# Import Libraries\n",
        "\n",
        "import numpy as np\n",
        "import pandas as pd\n",
        "import matplotlib.pyplot as plt\n",
        "import seaborn as sns\n",
        "\n",
        "from sklearn.preprocessing import MinMaxScaler\n",
        "from sklearn.preprocessing import StandardScaler\n",
        "from sklearn.preprocessing import OneHotEncoder\n",
        "\n",
        "from sklearn.model_selection import train_test_split\n",
        "from sklearn.model_selection import GridSearchCV\n",
        "\n",
        "from sklearn.linear_model import LinearRegression\n",
        "from sklearn.linear_model import Lasso\n",
        "from sklearn.linear_model import Ridge\n",
        "from sklearn.linear_model import ElasticNet\n",
        "from sklearn.ensemble import RandomForestRegressor\n",
        "\n",
        "from sklearn.metrics import r2_score\n",
        "from sklearn.metrics import mean_squared_error\n",
        "from sklearn.metrics import accuracy_score\n",
        "\n",
        "from datetime import datetime\n",
        "import datetime as dt\n",
        "\n",
        "import warnings\n",
        "warnings.filterwarnings('ignore')"
      ],
      "metadata": {
        "id": "M8Vqi-pPk-HR"
      },
      "execution_count": null,
      "outputs": []
    },
    {
      "cell_type": "markdown",
      "source": [
        "### Dataset Loading"
      ],
      "metadata": {
        "id": "3RnN4peoiCZX"
      }
    },
    {
      "cell_type": "code",
      "source": [
        "# Load Dataset\n",
        "\n",
        "from google.colab import drive\n",
        "drive.mount('/content/drive')"
      ],
      "metadata": {
        "id": "CKPSmqO7Sb6i"
      },
      "execution_count": null,
      "outputs": []
    },
    {
      "cell_type": "code",
      "source": [
        "df=pd.read_csv('/content/drive/MyDrive/data/SeoulBikeData.csv',encoding = 'unicode_escape')"
      ],
      "metadata": {
        "id": "gQj-tT8rSjSM"
      },
      "execution_count": null,
      "outputs": []
    },
    {
      "cell_type": "markdown",
      "source": [
        "### Dataset First View"
      ],
      "metadata": {
        "id": "x71ZqKXriCWQ"
      }
    },
    {
      "cell_type": "code",
      "source": [
        "# Dataset First Look\n",
        "df.head()"
      ],
      "metadata": {
        "id": "LWNFOSvLl09H"
      },
      "execution_count": null,
      "outputs": []
    },
    {
      "cell_type": "markdown",
      "source": [
        "### Dataset Rows & Columns count"
      ],
      "metadata": {
        "id": "7hBIi_osiCS2"
      }
    },
    {
      "cell_type": "code",
      "source": [
        "# Dataset Rows & Columns count\n",
        "df.shape"
      ],
      "metadata": {
        "id": "Kllu7SJgmLij"
      },
      "execution_count": null,
      "outputs": []
    },
    {
      "cell_type": "markdown",
      "source": [
        "### Dataset Information"
      ],
      "metadata": {
        "id": "JlHwYmJAmNHm"
      }
    },
    {
      "cell_type": "code",
      "source": [
        "# Dataset Info\n",
        "df.info()"
      ],
      "metadata": {
        "id": "e9hRXRi6meOf"
      },
      "execution_count": null,
      "outputs": []
    },
    {
      "cell_type": "markdown",
      "source": [
        "#### Duplicate Values"
      ],
      "metadata": {
        "id": "35m5QtbWiB9F"
      }
    },
    {
      "cell_type": "code",
      "source": [
        "# Dataset Duplicate Value Count\n",
        "df.duplicated().sum()"
      ],
      "metadata": {
        "id": "1sLdpKYkmox0"
      },
      "execution_count": null,
      "outputs": []
    },
    {
      "cell_type": "markdown",
      "source": [
        "Data has no Duplicate Values"
      ],
      "metadata": {
        "id": "UlB8B08sZeWY"
      }
    },
    {
      "cell_type": "markdown",
      "source": [
        "#### Missing Values/Null Values"
      ],
      "metadata": {
        "id": "PoPl-ycgm1ru"
      }
    },
    {
      "cell_type": "code",
      "source": [
        "# Missing Values/Null Values Count\n",
        "df.isnull().sum()"
      ],
      "metadata": {
        "id": "GgHWkxvamxVg"
      },
      "execution_count": null,
      "outputs": []
    },
    {
      "cell_type": "code",
      "source": [
        "# Visualizing the missing values\n",
        "\n",
        "sns.heatmap(df.isnull())"
      ],
      "metadata": {
        "id": "3q5wnI3om9sJ"
      },
      "execution_count": null,
      "outputs": []
    },
    {
      "cell_type": "markdown",
      "source": [
        "### What did you know about your dataset?"
      ],
      "metadata": {
        "id": "H0kj-8xxnORC"
      }
    },
    {
      "cell_type": "markdown",
      "source": [
        "The dataset consists of 14 rows and 8760 columns.\n",
        "Among these columns, 4 are of integer type, 4 are of object type, and 6 are of float type.There are no missing or null values and there are no duplicate rows in the dataset."
      ],
      "metadata": {
        "id": "gfoNAAC-nUe_"
      }
    },
    {
      "cell_type": "markdown",
      "source": [
        "## ***2. Understanding Your Variables***"
      ],
      "metadata": {
        "id": "nA9Y7ga8ng1Z"
      }
    },
    {
      "cell_type": "code",
      "source": [
        "# Dataset Columns\n",
        "df.columns"
      ],
      "metadata": {
        "id": "j7xfkqrt5Ag5"
      },
      "execution_count": null,
      "outputs": []
    },
    {
      "cell_type": "code",
      "source": [
        "# Dataset Describe\n",
        "df.describe()"
      ],
      "metadata": {
        "id": "DnOaZdaE5Q5t"
      },
      "execution_count": null,
      "outputs": []
    },
    {
      "cell_type": "markdown",
      "source": [
        "### Variables Description"
      ],
      "metadata": {
        "id": "PBTbrJXOngz2"
      }
    },
    {
      "cell_type": "markdown",
      "source": [
        "**Date** : The date of the day, during 365 days from 01/12/2017 to 30/11/2018, formating in DD/MM/YYYY, **type : str**, we need to convert into **datetime format**.\n",
        "\n",
        "**Rented Bike Count** : Number of rented bikes per hour which our **dependent variable** and we need to predict that, **type : int**\n",
        "\n",
        "**Hour**: The hour of the day, starting from 0-23 it's in a digital time format, **type : int**, we need to convert it into **category data type**.\n",
        "\n",
        "**Temperature(°C)**: Temperature in Celsius, **type : Float**\n",
        "\n",
        "**Humidity(%)**: Humidity in the air in %, **type : int**\n",
        "\n",
        "**Wind speed (m/s)** : Speed of the wind in m/s, **type : Float**\n",
        "\n",
        "**Visibility (10m)**: Visibility in m, **type : int**\n",
        "\n",
        "**Dew point temperature(°C)**: Temperature at the beggining of the day, **type : Float**\n",
        "\n",
        "**Solar Radiation (MJ/m2)**: Sun contribution, **type : Float**\n",
        "\n",
        "**Rainfall(mm)**: Amount of raining in mm, **type : Float**\n",
        "\n",
        "**Snowfall (cm)**: Amount of snowing in cm, **type : Float**\n",
        "\n",
        "**Seasons**: Season of the year, **type : str**, there are only 4 season's in data *.\n",
        "\n",
        "**Holiday**: If the day  is holiday period or not, **type: str**\n",
        "\n",
        "**Functioning Day**: If the day is a Functioning Day or not, **type : str**"
      ],
      "metadata": {
        "id": "aJV4KIxSnxay"
      }
    },
    {
      "cell_type": "markdown",
      "source": [
        "### Check Unique Values for each variable."
      ],
      "metadata": {
        "id": "u3PMJOP6ngxN"
      }
    },
    {
      "cell_type": "code",
      "source": [
        "# Check Unique Values for each variable.\n",
        "df.nunique()"
      ],
      "metadata": {
        "id": "zms12Yq5n-jE"
      },
      "execution_count": null,
      "outputs": []
    },
    {
      "cell_type": "markdown",
      "source": [
        "## 3. ***Data Wrangling***"
      ],
      "metadata": {
        "id": "dauF4eBmngu3"
      }
    },
    {
      "cell_type": "markdown",
      "source": [
        "### Data Wrangling Code"
      ],
      "metadata": {
        "id": "bKJF3rekwFvQ"
      }
    },
    {
      "cell_type": "code",
      "source": [
        "# Write your code to make your dataset analysis ready.\n",
        "# Converting the column Date to datetime format\n",
        "df['Date']=df['Date'].apply(lambda x : dt.datetime.strptime(x,'%d/%m/%Y'))\n"
      ],
      "metadata": {
        "id": "wk-9a2fpoLcV"
      },
      "execution_count": null,
      "outputs": []
    },
    {
      "cell_type": "code",
      "source": [
        "# creating 2 new columns months and days from date columns\n",
        "df['Year'] = df['Date'].dt.year\n",
        "df['Months'] = df['Date'].dt.month\n",
        "df['Days'] = df['Date'].dt.day_name()"
      ],
      "metadata": {
        "id": "GU4S7XmZelGU"
      },
      "execution_count": null,
      "outputs": []
    },
    {
      "cell_type": "code",
      "source": [
        "def week (day) :\n",
        "  if day=='Saturday' or day=='Sunday' :\n",
        "    return 1\n",
        "  else :\n",
        "    return 0"
      ],
      "metadata": {
        "id": "8zlSio7CiUKG"
      },
      "execution_count": null,
      "outputs": []
    },
    {
      "cell_type": "code",
      "source": [
        "df['weekday-0/weekend-1']= df['Days'].apply(week)"
      ],
      "metadata": {
        "id": "dEFZGWZBhjGt"
      },
      "execution_count": null,
      "outputs": []
    },
    {
      "cell_type": "code",
      "source": [
        "df.head()"
      ],
      "metadata": {
        "id": "pLl4K-4Zkcw8"
      },
      "execution_count": null,
      "outputs": []
    },
    {
      "cell_type": "markdown",
      "source": [
        "HANDLING OUTLIERS :\n",
        "\n",
        " Outliers are data points that deviate significantly from the majority of other data points in a dataset. These data points lie far away from the central tendency of the data, either on the higher or lower end of the value range"
      ],
      "metadata": {
        "id": "MMulkkEpl_Mu"
      }
    },
    {
      "cell_type": "code",
      "source": [
        "possible_outlier_columns = list(set(df.describe().columns)-{'Rented Bike Count','Hour','Year','Months','weekday-0/weekend-1'})\n",
        "possible_outlier_columns"
      ],
      "metadata": {
        "id": "08w8jSOWlvhj"
      },
      "execution_count": null,
      "outputs": []
    },
    {
      "cell_type": "code",
      "source": [
        "plt.figure(figsize=(10,7))\n",
        "for index,item in enumerate(possible_outlier_columns):\n",
        "  plt.subplot(2,4,index+1)\n",
        "  sns.boxplot(x=df[item], data=df)"
      ],
      "metadata": {
        "id": "pu1WQ6DVpLy0"
      },
      "execution_count": null,
      "outputs": []
    },
    {
      "cell_type": "code",
      "source": [
        "Col_with_outliers = ['Snowfall (cm)','Solar Radiation (MJ/m2)','Rainfall(mm)','Wind speed (m/s)']\n",
        "Col_with_outliers"
      ],
      "metadata": {
        "id": "w-xMna76J1RI"
      },
      "execution_count": null,
      "outputs": []
    },
    {
      "cell_type": "code",
      "source": [
        "outlier=pd.DataFrame(columns=['Name','lower_limit','upper_limit','Inter-quartile-range','No_of_outliers'])"
      ],
      "metadata": {
        "id": "AEMBZI5imuCZ"
      },
      "execution_count": null,
      "outputs": []
    },
    {
      "cell_type": "code",
      "source": [
        "def lower (col) :\n",
        "  q1=np.percentile(col,25)\n",
        "  q3=np.percentile(col,75)\n",
        "  iqr=q3-q1\n",
        "  ll=q1-(1.5*iqr)\n",
        "  return ll"
      ],
      "metadata": {
        "id": "_pbnscyOJ1EM"
      },
      "execution_count": null,
      "outputs": []
    },
    {
      "cell_type": "code",
      "source": [
        "def upper (col) :\n",
        "  q1=np.percentile(col,25)\n",
        "  q3=np.percentile(col,75)\n",
        "  iqr=q3-q1\n",
        "  ul=q3+(1.5*iqr)\n",
        "  return ul"
      ],
      "metadata": {
        "id": "kI7nB34WL0yG"
      },
      "execution_count": null,
      "outputs": []
    },
    {
      "cell_type": "code",
      "source": [
        "def iqr (col) :\n",
        "  q1=np.percentile(col,25)\n",
        "  q3=np.percentile(col,75)\n",
        "  iqr=q3-q1\n",
        "\n",
        "  return iqr"
      ],
      "metadata": {
        "id": "K6YI4SPlOUYd"
      },
      "execution_count": null,
      "outputs": []
    },
    {
      "cell_type": "code",
      "source": [
        "def num (col) :\n",
        "  ll=lower(col)\n",
        "  ul=upper(col)\n",
        "  count=0\n",
        "\n",
        "  for i in col :\n",
        "    if i<ll or i>ul:\n",
        "      count=count+1\n",
        "\n",
        "  return count\n"
      ],
      "metadata": {
        "id": "7HU9lIPUOkAR"
      },
      "execution_count": null,
      "outputs": []
    },
    {
      "cell_type": "code",
      "source": [
        "for i in Col_with_outliers :\n",
        "  outlier=outlier.append({'Name': i,'lower_limit' : lower(df[i]),'upper_limit' : upper(df[i]),'Inter-quartile-range' : iqr(df[i]),'No_of_outliers' : num(df[i])},ignore_index=True)"
      ],
      "metadata": {
        "id": "OtG9_zB9NLAJ"
      },
      "execution_count": null,
      "outputs": []
    },
    {
      "cell_type": "code",
      "source": [
        "outlier\n"
      ],
      "metadata": {
        "id": "kkSNljrJL-5w"
      },
      "execution_count": null,
      "outputs": []
    },
    {
      "cell_type": "code",
      "source": [
        "df['Solar Radiation (MJ/m2)'] = df['Solar Radiation (MJ/m2)'][~((df['Solar Radiation (MJ/m2)'] < lower(df['Solar Radiation (MJ/m2)'])) | (df['Solar Radiation (MJ/m2)'] > upper(df['Solar Radiation (MJ/m2)'])))]\n",
        "df['Wind speed (m/s)'] = df['Wind speed (m/s)'][~((df['Wind speed (m/s)'] < lower(df['Wind speed (m/s)'])) | (df['Wind speed (m/s)'] > upper(df['Wind speed (m/s)'])))]"
      ],
      "metadata": {
        "id": "egQsbmitszLZ"
      },
      "execution_count": null,
      "outputs": []
    },
    {
      "cell_type": "code",
      "source": [
        "df.isna().sum()"
      ],
      "metadata": {
        "id": "s-LZKmJdHsny"
      },
      "execution_count": null,
      "outputs": []
    },
    {
      "cell_type": "code",
      "source": [
        "df['Solar Radiation (MJ/m2)'].fillna(df['Solar Radiation (MJ/m2)'].median(),inplace=True)\n",
        "df['Wind speed (m/s)'].fillna(df['Wind speed (m/s)'].median(),inplace=True)\n"
      ],
      "metadata": {
        "id": "hFQk12NAxTa3"
      },
      "execution_count": null,
      "outputs": []
    },
    {
      "cell_type": "code",
      "source": [
        "df.info()"
      ],
      "metadata": {
        "id": "vh21WP5sxflz"
      },
      "execution_count": null,
      "outputs": []
    },
    {
      "cell_type": "markdown",
      "source": [
        "### What all manipulations have you done and insights you found?"
      ],
      "metadata": {
        "id": "MSa1f5Uengrz"
      }
    },
    {
      "cell_type": "markdown",
      "source": [
        "1. Initially, we convert the data type of the 'Date' column from **object to datetime** to facilitate the time-based operation and analysis.\n",
        "2. Subsequently, we generate three new columns named **'Year', 'Month', and 'Day'** based on the 'Date' column.\n",
        "3. The 'Day' column encompasses all the days of the month, and we create a new column named **'Weekdays-0/Weekend-1' where we designate Saturdays and Sundays as 0, and the remaining days as 1.**\n",
        "4. Employed box plots to visualize the distribution of numerical variables and identify potential outliers\n",
        "\n",
        "Outlier observations :\n",
        "\n",
        "We see that Data like Snowfall, Solar Radiation, rainfall and wind speed have lot of outliers.\n",
        "It is obvious because these values will have extremes during their peak season.\n",
        "We should also not completely avoid them because they give us the maxmum potential they reach in peak seasons and what is their effect on bike rents.\n",
        "\n",
        "\n",
        "By checking the Inter-Quaartile range of the above variables below data was found :\n",
        "\n",
        "![WhatsApp Image 2023-08-07 at 2.07.21 PM.jpeg](data:image/jpeg;base64,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)\n",
        "\n",
        "\n",
        "From the data we derrive that all the values for Snowfall and Rainfall except 0 is coming out as outlier and hence we can not remove those values. Because we will otherwise be left with only 1 value that is 0 for these parameters.\n",
        "\n",
        "However, we have removed outliers from the columns Wind speed and Solar Radiation using Inter Quartile range method.\n",
        "\n",
        "161 and 641 values were Removed from Wind speed and Solar Radiation Data respectively."
      ],
      "metadata": {
        "id": "LbyXE7I1olp8"
      }
    },
    {
      "cell_type": "markdown",
      "source": [
        "## ***4. Data Vizualization, Storytelling & Experimenting with charts : Understand the relationships between variables***"
      ],
      "metadata": {
        "id": "GF8Ens_Soomf"
      }
    },
    {
      "cell_type": "markdown",
      "source": [
        "#### Chart - 1"
      ],
      "metadata": {
        "id": "0wOQAZs5pc--"
      }
    },
    {
      "cell_type": "code",
      "source": [
        "# Chart - 1 visualization code\n",
        "sns.barplot(data=df,x='Months',y='Rented Bike Count')\n",
        "plt.title('Rented bike each month count')"
      ],
      "metadata": {
        "id": "7v_ESjsspbW7"
      },
      "execution_count": null,
      "outputs": []
    },
    {
      "cell_type": "markdown",
      "source": [
        "##### 1. Why did you pick the specific chart?"
      ],
      "metadata": {
        "id": "K5QZ13OEpz2H"
      }
    },
    {
      "cell_type": "markdown",
      "source": [
        "This Bar Chart helps analyse categorical data and comparision."
      ],
      "metadata": {
        "id": "XESiWehPqBRc"
      }
    },
    {
      "cell_type": "markdown",
      "source": [
        "##### 2. What is/are the insight(s) found from the chart?"
      ],
      "metadata": {
        "id": "lQ7QKXXCp7Bj"
      }
    },
    {
      "cell_type": "markdown",
      "source": [
        "We can see from the chart that the bike rents are increased from month 3 and reach peak by month 6 (june) however there are low no of bikes rented after month 11(Nov) continued in Month 1 and 2 (Jan and Feb)."
      ],
      "metadata": {
        "id": "C_j1G7yiqdRP"
      }
    },
    {
      "cell_type": "markdown",
      "source": [
        "##### 3. Will the gained insights help creating a positive business impact?\n",
        "Are there any insights that lead to negative growth? Justify with specific reason."
      ],
      "metadata": {
        "id": "448CDAPjqfQr"
      }
    },
    {
      "cell_type": "markdown",
      "source": [
        "As there are low no of bikes rented during winters the possible reason may be in cold weather people might be prefering Cabs or other mode of transportation.\n",
        "\n",
        "different schemes can be launched to increase business in winters also there can be such R&D that people dont feel cold while riding bikes in winters\n",
        "\n",
        "There is rise in bike rents in months 4,5,6,7 and 8. we can make sure to keep more no of bikes available and increase surcharge rates on advance booking of bikes to have profit business"
      ],
      "metadata": {
        "id": "3cspy4FjqxJW"
      }
    },
    {
      "cell_type": "markdown",
      "source": [
        "#### Chart - 2"
      ],
      "metadata": {
        "id": "KSlN3yHqYklG"
      }
    },
    {
      "cell_type": "code",
      "source": [
        "# Chart - 2 visualization code\n",
        "plt.pie(df['Rented Bike Count'].groupby(df['weekday-0/weekend-1']).sum(),labels=['Weekday','Weekend'],autopct='%2.2f%%')\n",
        "plt.show()"
      ],
      "metadata": {
        "id": "R4YgtaqtYklH"
      },
      "execution_count": null,
      "outputs": []
    },
    {
      "cell_type": "markdown",
      "source": [
        "##### 1. Why did you pick the specific chart?"
      ],
      "metadata": {
        "id": "t6dVpIINYklI"
      }
    },
    {
      "cell_type": "markdown",
      "source": [
        "To compare with the categorical data in percentage."
      ],
      "metadata": {
        "id": "5aaW0BYyYklI"
      }
    },
    {
      "cell_type": "markdown",
      "source": [
        "##### 2. What is/are the insight(s) found from the chart?"
      ],
      "metadata": {
        "id": "ijmpgYnKYklI"
      }
    },
    {
      "cell_type": "markdown",
      "source": [
        "More Bikes are rented in weekday this maybe because people use the bikes to go to office.\n",
        "\n"
      ],
      "metadata": {
        "id": "PSx9atu2YklI"
      }
    },
    {
      "cell_type": "markdown",
      "source": [
        "##### 3. Will the gained insights help creating a positive business impact?\n",
        "Are there any insights that lead to negative growth? Justify with specific reason."
      ],
      "metadata": {
        "id": "-JiQyfWJYklI"
      }
    },
    {
      "cell_type": "markdown",
      "source": [
        "Weekend Schemes can be released to increase business in weekends"
      ],
      "metadata": {
        "id": "BcBbebzrYklV"
      }
    },
    {
      "cell_type": "markdown",
      "source": [
        "#### Chart - 3"
      ],
      "metadata": {
        "id": "EM7whBJCYoAo"
      }
    },
    {
      "cell_type": "code",
      "source": [
        "# Chart - 3 visualization code\n",
        "plt.figure(figsize=(10,5))\n",
        "sns.pointplot(data=df,x='Hour',y='Rented Bike Count',hue='weekday-0/weekend-1')\n",
        "plt.title('Count of Rented bikes acording to weekend and weekenday ')\n",
        "plt.legend()\n",
        "plt.show()"
      ],
      "metadata": {
        "id": "t6GMdE67YoAp"
      },
      "execution_count": null,
      "outputs": []
    },
    {
      "cell_type": "markdown",
      "source": [
        "##### 1. Why did you pick the specific chart?"
      ],
      "metadata": {
        "id": "fge-S5ZAYoAp"
      }
    },
    {
      "cell_type": "markdown",
      "source": [
        "A point plot is used to visualize data points along two-dimensional axes, aiding in data distribution and comparison between groups. It helps display trends over time."
      ],
      "metadata": {
        "id": "5dBItgRVYoAp"
      }
    },
    {
      "cell_type": "markdown",
      "source": [
        "##### 2. What is/are the insight(s) found from the chart?"
      ],
      "metadata": {
        "id": "85gYPyotYoAp"
      }
    },
    {
      "cell_type": "markdown",
      "source": [
        "More no of bikes are rented during 6 AM to 10 AM and 4 PM to 7 PM. This might be because of office timings, more number of people renting bikes for office travel."
      ],
      "metadata": {
        "id": "4jstXR6OYoAp"
      }
    },
    {
      "cell_type": "markdown",
      "source": [
        "##### 3. Will the gained insights help creating a positive business impact?\n",
        "Are there any insights that lead to negative growth? Justify with specific reason."
      ],
      "metadata": {
        "id": "RoGjAbkUYoAp"
      }
    },
    {
      "cell_type": "markdown",
      "source": [
        "Prebookings can be made for better availability and improved business."
      ],
      "metadata": {
        "id": "zfJ8IqMcYoAp"
      }
    },
    {
      "cell_type": "markdown",
      "source": [
        "#### Chart - 4"
      ],
      "metadata": {
        "id": "4Of9eVA-YrdM"
      }
    },
    {
      "cell_type": "code",
      "source": [
        "# Chart - 4 visualization code\n",
        "plt.pie(df['Rented Bike Count'].groupby(df['Functioning Day']).sum(),labels=['Holiday','Functioning Day'],autopct='%2.2f%%')\n",
        "plt.show()"
      ],
      "metadata": {
        "id": "irlUoxc8YrdO"
      },
      "execution_count": null,
      "outputs": []
    },
    {
      "cell_type": "markdown",
      "source": [
        "##### 2. What is/are the insight(s) found from the chart?"
      ],
      "metadata": {
        "id": "F6T5p64dYrdO"
      }
    },
    {
      "cell_type": "markdown",
      "source": [
        "Maybe there is no data recorded for Holidays because it might not be possible that there was 0 bike rented for all the holidays."
      ],
      "metadata": {
        "id": "Xx8WAJvtYrdO"
      }
    },
    {
      "cell_type": "markdown",
      "source": [
        "##### 3. Will the gained insights help creating a positive business impact?\n",
        "Are there any insights that lead to negative growth? Justify with specific reason."
      ],
      "metadata": {
        "id": "y-Ehk30pYrdP"
      }
    },
    {
      "cell_type": "markdown",
      "source": [
        "Data needs to be checked for Holiday's Bike rentals"
      ],
      "metadata": {
        "id": "jLNxxz7MYrdP"
      }
    },
    {
      "cell_type": "markdown",
      "source": [
        "#### Chart - 5"
      ],
      "metadata": {
        "id": "bamQiAODYuh1"
      }
    },
    {
      "cell_type": "code",
      "source": [
        "x=df['Rented Bike Count'].groupby(df['Seasons']).sum().reset_index()\n",
        "x['pl']=x['Rented Bike Count']/100000"
      ],
      "metadata": {
        "id": "QXuibN2bGNLH"
      },
      "execution_count": null,
      "outputs": []
    },
    {
      "cell_type": "code",
      "source": [
        "# Chart - 5 visualization code\n",
        "plt.bar(x['Seasons'],x['pl'])\n",
        "plt.title('Bikes Rented Season wise in Lacks')\n",
        "plt.xlabel('Seasons')\n",
        "plt.ylabel('Bikes Rented in Lacks')\n",
        "plt.show()\n"
      ],
      "metadata": {
        "id": "TIJwrbroYuh3"
      },
      "execution_count": null,
      "outputs": []
    },
    {
      "cell_type": "markdown",
      "source": [
        "##### 1. Why did you pick the specific chart?"
      ],
      "metadata": {
        "id": "QHF8YVU7Yuh3"
      }
    },
    {
      "cell_type": "markdown",
      "source": [
        "A bar graph is used to visually represent categorical data by showing the frequency or value of each category as bars, making it easy to compare and understand the distribution of data. It is an effective tool for displaying discrete data and identifying patterns or trends among different categories."
      ],
      "metadata": {
        "id": "dcxuIMRPYuh3"
      }
    },
    {
      "cell_type": "markdown",
      "source": [
        "##### 2. What is/are the insight(s) found from the chart?"
      ],
      "metadata": {
        "id": "GwzvFGzlYuh3"
      }
    },
    {
      "cell_type": "markdown",
      "source": [
        "Very few bikes rented in winters."
      ],
      "metadata": {
        "id": "uyqkiB8YYuh3"
      }
    },
    {
      "cell_type": "markdown",
      "source": [
        "#### Chart - 6"
      ],
      "metadata": {
        "id": "OH-pJp9IphqM"
      }
    },
    {
      "cell_type": "code",
      "source": [
        "# Chart - 6 visualization code\n",
        "plt.figure(figsize=(10,5))\n",
        "\n",
        "plt.bar(x= df['Temperature(°C)'], height= df['Rented Bike Count'],width=0.5)\n",
        "plt.show()"
      ],
      "metadata": {
        "id": "kuRf4wtuphqN"
      },
      "execution_count": null,
      "outputs": []
    },
    {
      "cell_type": "markdown",
      "source": [
        "##### 2. What is/are the insight(s) found from the chart?"
      ],
      "metadata": {
        "id": "_ouA3fa0phqN"
      }
    },
    {
      "cell_type": "markdown",
      "source": [
        "More bikes rented at temperature 20-30"
      ],
      "metadata": {
        "id": "VECbqPI7phqN"
      }
    },
    {
      "cell_type": "markdown",
      "source": [
        "##### 3. Will the gained insights help creating a positive business impact?\n",
        "Are there any insights that lead to negative growth? Justify with specific reason."
      ],
      "metadata": {
        "id": "Seke61FWphqN"
      }
    },
    {
      "cell_type": "markdown",
      "source": [
        "We need to check more parameters"
      ],
      "metadata": {
        "id": "DW4_bGpfphqN"
      }
    },
    {
      "cell_type": "markdown",
      "source": [
        "#### Chart - 7"
      ],
      "metadata": {
        "id": "PIIx-8_IphqN"
      }
    },
    {
      "cell_type": "code",
      "source": [
        "# Chart - 7 visualization code\n",
        "\n",
        "plt.bar(x= df['Snowfall (cm)'], height= df['Rented Bike Count'],width=0.5)\n",
        "plt.show()"
      ],
      "metadata": {
        "id": "lqAIGUfyphqO"
      },
      "execution_count": null,
      "outputs": []
    },
    {
      "cell_type": "markdown",
      "source": [
        "#### Chart - 8"
      ],
      "metadata": {
        "id": "BZR9WyysphqO"
      }
    },
    {
      "cell_type": "code",
      "source": [
        "# Chart - 8 visualization code\n",
        "plt.figure(figsize=(10,5))\n",
        "\n",
        "plt.bar(x= df['Rainfall(mm)'], height= df['Rented Bike Count'],width=0.5)\n",
        "plt.show()"
      ],
      "metadata": {
        "id": "TdPTWpAVphqO"
      },
      "execution_count": null,
      "outputs": []
    },
    {
      "cell_type": "markdown",
      "source": [
        "#### Chart - 9"
      ],
      "metadata": {
        "id": "YJ55k-q6phqO"
      }
    },
    {
      "cell_type": "code",
      "source": [
        "# Chart - 9 visualization code\n",
        "humidity_bike = df.groupby('Humidity(%)')['Rented Bike Count'].mean().reset_index()\n",
        "\n",
        "#Plotting a visualisation for the different humidity percentages\n",
        "plt.plot(humidity_bike['Humidity(%)'],humidity_bike['Rented Bike Count'])\n",
        "plt.xlabel('Humidity(%)')\n",
        "plt.ylabel(\"Rented Bike Count\")\n",
        "plt.title(\"Rented bikes count across different humidity percentages\")\n",
        "plt.show()"
      ],
      "metadata": {
        "id": "B2aS4O1ophqO"
      },
      "execution_count": null,
      "outputs": []
    },
    {
      "cell_type": "markdown",
      "source": [
        "#### Chart - 10"
      ],
      "metadata": {
        "id": "U2RJ9gkRphqQ"
      }
    },
    {
      "cell_type": "code",
      "source": [
        "# Chart - 10 visualization code\n",
        "plt.bar(x= df['Visibility (10m)'], height= df['Rented Bike Count'],width=0.5)\n",
        "plt.show()"
      ],
      "metadata": {
        "id": "GM7a4YP4phqQ"
      },
      "execution_count": null,
      "outputs": []
    },
    {
      "cell_type": "markdown",
      "source": [
        "#### Chart - 11 - Correlation Heatmap"
      ],
      "metadata": {
        "id": "NC_X3p0fY2L0"
      }
    },
    {
      "cell_type": "code",
      "source": [
        "# Correlation Heatmap visualization code\n",
        "plt.figure(figsize=(20,10))\n",
        "sns.heatmap(df.corr(),annot=True,cmap=\"coolwarm\")\n",
        "plt.show()"
      ],
      "metadata": {
        "id": "xyC9zolEZNRQ"
      },
      "execution_count": null,
      "outputs": []
    },
    {
      "cell_type": "markdown",
      "source": [
        "##### 1. Why did you pick the specific chart?"
      ],
      "metadata": {
        "id": "UV0SzAkaZNRQ"
      }
    },
    {
      "cell_type": "markdown",
      "source": [
        "The specific chart chosen in this case is a correlation heatmap using seaborn library, which is used to visualize the correlation between pairs of numerical variables in a matrix format. Each cell in the heatmap represents the correlation coefficient between two variables, with color indicating the strength and direction of the correlation."
      ],
      "metadata": {
        "id": "DVPuT8LYZNRQ"
      }
    },
    {
      "cell_type": "markdown",
      "source": [
        "##### 2. What is/are the insight(s) found from the chart?"
      ],
      "metadata": {
        "id": "YPEH6qLeZNRQ"
      }
    },
    {
      "cell_type": "markdown",
      "source": [
        "*  Humidity has low correlation with visibility due to solar radiation.\n",
        "*  Dew point temperature and temperature are highly related.  "
      ],
      "metadata": {
        "id": "bfSqtnDqZNRR"
      }
    },
    {
      "cell_type": "markdown",
      "source": [
        "#### Chart - 12 - Regression Plot"
      ],
      "metadata": {
        "id": "q29F0dvdveiT"
      }
    },
    {
      "cell_type": "code",
      "source": [
        "# Regression Plot visualization code\n",
        "plt.figure(figsize=(20,30))\n",
        "for col in list(set(df.describe())):\n",
        "  plt.subplot(7,2,list(set(df.describe())).index(col)+1)\n",
        "  sns.regplot(x=df[col],y=df['Rented Bike Count'],scatter_kws={\"color\": 'Orange'}, line_kws={\"color\": \"black\"})\n",
        "  corr=df[col].corr(df['Rented Bike Count'])\n",
        "  #ax.set_title(col+'vs Rented Bike Count - correlation:'+str(corr))"
      ],
      "metadata": {
        "id": "o58-TEIhveiU"
      },
      "execution_count": null,
      "outputs": []
    },
    {
      "cell_type": "markdown",
      "source": [
        "##### 1. Why did you pick the specific chart?"
      ],
      "metadata": {
        "id": "EXh0U9oCveiU"
      }
    },
    {
      "cell_type": "markdown",
      "source": [
        "A regression plot is used to visualize the relationship between two continuous variables by fitting a linear regression line to the data points, making it helpful for understanding the overall trend and predicting future values based on the relationship between the variables."
      ],
      "metadata": {
        "id": "eMmPjTByveiU"
      }
    },
    {
      "cell_type": "markdown",
      "source": [
        "##### 2. What is/are the insight(s) found from the chart?"
      ],
      "metadata": {
        "id": "22aHeOlLveiV"
      }
    },
    {
      "cell_type": "markdown",
      "source": [
        "Temperature shows positive correlation with rented bikes.\n",
        "\n",
        "Rainfall shows negetive correlation with rented bikes."
      ],
      "metadata": {
        "id": "uPQ8RGwHveiV"
      }
    },
    {
      "cell_type": "markdown",
      "source": [
        "## ***5. Hypothesis Testing***"
      ],
      "metadata": {
        "id": "g-ATYxFrGrvw"
      }
    },
    {
      "cell_type": "markdown",
      "source": [
        "### Based on your chart experiments, define three hypothetical statements from the dataset. In the next three questions, perform hypothesis testing to obtain final conclusion about the statements through your code and statistical testing."
      ],
      "metadata": {
        "id": "Yfr_Vlr8HBkt"
      }
    },
    {
      "cell_type": "markdown",
      "source": [
        "significant relationship between weather conditions (temperature, humidity, wind speed)"
      ],
      "metadata": {
        "id": "-7MS06SUHkB-"
      }
    },
    {
      "cell_type": "markdown",
      "source": [
        "### Hypothetical Statement -1"
      ],
      "metadata": {
        "id": "8yEUt7NnHlrM"
      }
    },
    {
      "cell_type": "markdown",
      "source": [
        "#### 1. State Your research hypothesis as a null hypothesis and alternate hypothesis."
      ],
      "metadata": {
        "id": "tEA2Xm5dHt1r"
      }
    },
    {
      "cell_type": "markdown",
      "source": [
        "Null Hypothesis (H0): There is no significant relationship between weather conditions Temperature and bike sharing demand.\n",
        "\n",
        "Alternative Hypothesis (Ha): There is a significant relationship temperature and bike sharing demand."
      ],
      "metadata": {
        "id": "HI9ZP0laH0D-"
      }
    },
    {
      "cell_type": "markdown",
      "source": [
        "#### 2. Perform an appropriate statistical test."
      ],
      "metadata": {
        "id": "I79__PHVH19G"
      }
    },
    {
      "cell_type": "code",
      "source": [
        "# Perform Statistical Test to obtain P-Value\n",
        "import scipy.stats as stats\n",
        "\n",
        "# Extract temperature and bike sharing demand columns\n",
        "temperature = df['Temperature(°C)']\n",
        "bike_demand = df['Rented Bike Count']\n",
        "\n",
        "# Perform Pearson's correlation coefficient test\n",
        "corr, p_value = stats.pearsonr(temperature, bike_demand)\n",
        "\n",
        "# Set the significance level (alpha)\n",
        "alpha = 0.05\n",
        "\n",
        "# Print the results\n",
        "print(\"Pearson's correlation coefficient: {:.2f}\".format(corr))\n",
        "print(\"p-value: {:.4f}\".format(p_value))\n",
        "\n",
        "# Check if the p-value is less than the significance level\n",
        "if p_value < alpha:\n",
        "    print(\"Reject the null hypothesis. There is a significant relationship between temperature and bike sharing demand.\")\n",
        "else:\n",
        "    print(\"Fail to reject the null hypothesis. There is no significant relationship between temperature and bike sharing demand.\")"
      ],
      "metadata": {
        "id": "oZrfquKtyian"
      },
      "execution_count": null,
      "outputs": []
    },
    {
      "cell_type": "markdown",
      "source": [
        "##### Which statistical test have you done to obtain P-Value?"
      ],
      "metadata": {
        "id": "Ou-I18pAyIpj"
      }
    },
    {
      "cell_type": "markdown",
      "source": [
        "The statistical test used in the example code provided is Pearson's correlation coefficient test, which is a measure of the linear relationship between two variables. The resulting p-value from this test is used to determine the significance of the correlation between temperature and bike sharing demand."
      ],
      "metadata": {
        "id": "s2U0kk00ygSB"
      }
    },
    {
      "cell_type": "markdown",
      "source": [
        "##### Why did you choose the specific statistical test?"
      ],
      "metadata": {
        "id": "fF3858GYyt-u"
      }
    },
    {
      "cell_type": "markdown",
      "source": [
        "t is widely used for assessing the strength and direction of a linear relationship between two variables. It provides a numerical value (r) that ranges from -1 to 1, where -1 indicates a perfect negative linear relationship, 1 indicates a perfect positive linear relationship, and 0 indicates no linear relationship. This makes it easy to interpret and understand the strength and direction of the relationship between temperature and bike sharing demand."
      ],
      "metadata": {
        "id": "HO4K0gP5y3B4"
      }
    },
    {
      "cell_type": "markdown",
      "source": [
        "### Hypothetical Statement - 2"
      ],
      "metadata": {
        "id": "4_0_7-oCpUZd"
      }
    },
    {
      "cell_type": "markdown",
      "source": [
        "#### 1. State Your research hypothesis as a null hypothesis and alternate hypothesis."
      ],
      "metadata": {
        "id": "hwyV_J3ipUZe"
      }
    },
    {
      "cell_type": "markdown",
      "source": [
        "Null Hypothesis (H0): There is no significant relationship between Humidity and bike sharing demand.\n",
        "\n",
        "Alternative Hypothesis (Ha): There is a significant relationship between Humidity and bike sharing demand."
      ],
      "metadata": {
        "id": "FnpLGJ-4pUZe"
      }
    },
    {
      "cell_type": "markdown",
      "source": [
        "#### 2. Perform an appropriate statistical test."
      ],
      "metadata": {
        "id": "3yB-zSqbpUZe"
      }
    },
    {
      "cell_type": "code",
      "source": [
        "# Perform Statistical Test to obtain P-Value\n",
        "\n",
        "# Extract Humidity and bike sharing demand columns\n",
        "humidity = df['Humidity(%)']\n",
        "\n",
        "# Perform Pearson's correlation coefficient test\n",
        "corr, p_value = stats.pearsonr(humidity, bike_demand)\n",
        "\n",
        "# Set the significance level (alpha)\n",
        "alpha = 0.05\n",
        "\n",
        "# Print the results\n",
        "print(\"Pearson's correlation coefficient: {:.2f}\".format(corr))\n",
        "print(\"p-value: {:.4f}\".format(p_value))\n",
        "\n",
        "# Check if the p-value is less than the significance level\n",
        "if p_value < alpha:\n",
        "    print(\"Reject the null hypothesis. There is a significant relationship between Humidity and bike sharing demand.\")\n",
        "else:\n",
        "    print(\"Fail to reject the null hypothesis. There is no significant relationship between Humidity and bike sharing demand.\")"
      ],
      "metadata": {
        "id": "sWxdNTXNpUZe"
      },
      "execution_count": null,
      "outputs": []
    },
    {
      "cell_type": "markdown",
      "source": [
        "A correlation coefficient of -0.20 indicates a weak negative correlation between the variables. This means that as one variable increases, the other tends to decrease slightly, but the relationship is not very strong. The value of -0.20 suggests a small negative linear association between the two variables."
      ],
      "metadata": {
        "id": "mLyu2QIGeJ8O"
      }
    },
    {
      "cell_type": "markdown",
      "source": [
        "### Hypothetical Statement - 3"
      ],
      "metadata": {
        "id": "bn_IUdTipZyH"
      }
    },
    {
      "cell_type": "markdown",
      "source": [
        "#### 1. State Your research hypothesis as a null hypothesis and alternate hypothesis."
      ],
      "metadata": {
        "id": "49K5P_iCpZyH"
      }
    },
    {
      "cell_type": "markdown",
      "source": [
        "Null Hypothesis (H0): There is no significant relationship between Wind Speed and bike sharing demand.\n",
        "\n",
        "Alternative Hypothesis (Ha): There is a significant relationship between Wind Speed and bike sharing demand."
      ],
      "metadata": {
        "id": "7gWI5rT9pZyH"
      }
    },
    {
      "cell_type": "markdown",
      "source": [
        "#### 2. Perform an appropriate statistical test."
      ],
      "metadata": {
        "id": "Nff-vKELpZyI"
      }
    },
    {
      "cell_type": "code",
      "source": [
        "# Perform Statistical Test to obtain P-Value\n",
        "\n",
        "wind = df['Wind speed (m/s)']\n",
        "bike_demand = df['Rented Bike Count']\n",
        "\n",
        "# Perform Pearson's correlation coefficient test\n",
        "corr, p_value = stats.pearsonr(temperature, bike_demand)\n",
        "\n",
        "# Set the significance level (alpha)\n",
        "alpha = 0.05\n",
        "\n",
        "# Print the results\n",
        "print(\"Pearson's correlation coefficient: {:.2f}\".format(corr))\n",
        "print(\"p-value: {:.4f}\".format(p_value))\n",
        "\n",
        "# Check if the p-value is less than the significance level\n",
        "if p_value < alpha:\n",
        "    print(\"Reject the null hypothesis. There is a significant relationship between Wind Speed and bike sharing demand.\")\n",
        "else:\n",
        "    print(\"Fail to reject the null hypothesis. There is no significant relationship between Wind Speed and bike sharing demand.\")"
      ],
      "metadata": {
        "id": "s6AnJQjtpZyI"
      },
      "execution_count": null,
      "outputs": []
    },
    {
      "cell_type": "markdown",
      "source": [
        "Pearson's correlation coefficient of 0.54 indicates a moderate positive correlation between the two continuous variables. This means that as one variable increases, the other tends to increase as well, and vice versa, but the relationship is not extremely strong.\n",
        "\n",
        "The p-value of 0.0000 suggests that the correlation is statistically significant. In other words, the likelihood of obtaining a correlation of 0.54 by chance alone is very low. Therefore, we can conclude that there is a significant positive correlation between the variables based on this p-value."
      ],
      "metadata": {
        "id": "eqCznXROesc_"
      }
    },
    {
      "cell_type": "markdown",
      "source": [
        "## ***6. Feature Engineering & Data Pre-processing***"
      ],
      "metadata": {
        "id": "yLjJCtPM0KBk"
      }
    },
    {
      "cell_type": "markdown",
      "source": [
        "### 1. Handling Missing Values"
      ],
      "metadata": {
        "id": "xiyOF9F70UgQ"
      }
    },
    {
      "cell_type": "code",
      "source": [
        "df.isna().sum()"
      ],
      "metadata": {
        "id": "iRsAHk1K0fpS"
      },
      "execution_count": null,
      "outputs": []
    },
    {
      "cell_type": "markdown",
      "source": [
        "#### What all missing value imputation techniques have you used and why did you use those techniques?"
      ],
      "metadata": {
        "id": "7wuGOrhz0itI"
      }
    },
    {
      "cell_type": "markdown",
      "source": [
        "Done before. No missing Values"
      ],
      "metadata": {
        "id": "1ixusLtI0pqI"
      }
    },
    {
      "cell_type": "markdown",
      "source": [
        "### 2. Handling Outliers"
      ],
      "metadata": {
        "id": "id1riN9m0vUs"
      }
    },
    {
      "cell_type": "code",
      "source": [
        "#Already Done Above"
      ],
      "metadata": {
        "id": "M6w2CzZf04JK"
      },
      "execution_count": null,
      "outputs": []
    },
    {
      "cell_type": "markdown",
      "source": [
        "### 3. Categorical Encoding"
      ],
      "metadata": {
        "id": "89xtkJwZ18nB"
      }
    },
    {
      "cell_type": "code",
      "source": [
        "df.columns"
      ],
      "metadata": {
        "id": "szIbVGbUJJQ8"
      },
      "execution_count": null,
      "outputs": []
    },
    {
      "cell_type": "code",
      "source": [
        "# Encode your categorical columns\n",
        "#first we encode the Season column and remove the Season column\n",
        "df['Winter'] = np.where(df['Seasons']=='Winter', 1, 0)\n",
        "df['Spring'] = np.where(df['Seasons']=='Spring', 1, 0)\n",
        "df['Summer'] = np.where(df['Seasons']=='Summer', 1, 0)\n",
        "df['Autumn'] = np.where(df['Seasons']=='Autumn', 1, 0)\n",
        "\n",
        "df.drop(columns=['Seasons'], axis=1, inplace=True)\n",
        "\n",
        "# Encoding for Holiday column\n",
        "df['Holiday'] = np.where(df['Holiday']=='Holiday', 1, 0)\n",
        "\n",
        "# Encoding for Functioning day\n",
        "df['Functioning Day'] = np.where(df['Functioning Day']=='Yes', 1, 0)\n",
        "\n",
        "# Encoding for week\n",
        "df['week'] = np.where(df['weekday-0/weekend-1']=='weekend', 1, 0)"
      ],
      "metadata": {
        "id": "21JmIYMG2hEo"
      },
      "execution_count": null,
      "outputs": []
    },
    {
      "cell_type": "markdown",
      "source": [
        "#### What all categorical encoding techniques have you used & why did you use those techniques?"
      ],
      "metadata": {
        "id": "67NQN5KX2AMe"
      }
    },
    {
      "cell_type": "markdown",
      "source": [
        "One-hot encoding is a technique that helps turn categories into binary features, useful for machine learning. It ensures each category is considered separately without any misleading order."
      ],
      "metadata": {
        "id": "UDaue5h32n_G"
      }
    },
    {
      "cell_type": "markdown",
      "source": [
        "### 4. Feature Manipulation & Selection"
      ],
      "metadata": {
        "id": "-oLEiFgy-5Pf"
      }
    },
    {
      "cell_type": "markdown",
      "source": [
        "#### 1. Feature Manipulation"
      ],
      "metadata": {
        "id": "C74aWNz2AliB"
      }
    },
    {
      "cell_type": "code",
      "source": [
        "# Manipulate Features to minimize feature correlation and create new features\n",
        "columns_to_drop = ['Date', 'Year', 'Days', 'weekday-0/weekend-1']\n",
        "df.drop(columns=columns_to_drop, inplace=True)"
      ],
      "metadata": {
        "id": "h1qC4yhBApWC"
      },
      "execution_count": null,
      "outputs": []
    },
    {
      "cell_type": "markdown",
      "source": [
        "#### 2. Feature Selection"
      ],
      "metadata": {
        "id": "2DejudWSA-a0"
      }
    },
    {
      "cell_type": "code",
      "source": [
        "# Select your features wisely to avoid overfitting\n",
        "df.columns"
      ],
      "metadata": {
        "id": "YLhe8UmaBCEE"
      },
      "execution_count": null,
      "outputs": []
    },
    {
      "cell_type": "markdown",
      "source": [
        "### 3. Data Transformation"
      ],
      "metadata": {
        "id": "TNVZ9zx19K6k"
      }
    },
    {
      "cell_type": "markdown",
      "source": [
        "#### Do you think that your data needs to be transformed? If yes, which transformation have you used. Explain Why?"
      ],
      "metadata": {
        "id": "nqoHp30x9hH9"
      }
    },
    {
      "cell_type": "markdown",
      "source": [
        "Data transformed is important,and for that we are going to use standard scaler.\n",
        "StandardScaler is a commonly used data transformation technique in machine learning because it helps to standardize the distribution of data, brings all the features to a similar scale, and can improve the performance of many statistical and machine learning algorithms.\n"
      ],
      "metadata": {
        "id": "w3pOKvA-FM8-"
      }
    },
    {
      "cell_type": "code",
      "source": [
        "# Transform Your data\n",
        "X = df.drop(columns=['Rented Bike Count'], axis=1)\n",
        "y = df['Rented Bike Count']"
      ],
      "metadata": {
        "id": "I6quWQ1T9rtH"
      },
      "execution_count": null,
      "outputs": []
    },
    {
      "cell_type": "markdown",
      "source": [
        "### 4. Data Splitting"
      ],
      "metadata": {
        "id": "BhH2vgX9EjGr"
      }
    },
    {
      "cell_type": "code",
      "source": [
        "# Split your data to train and test. Choose Splitting ratio wisely\n",
        "X_train, X_test, y_train, y_test = train_test_split(X, y, test_size=0.25, random_state=0)\n",
        "print(X_train.shape,X_test.shape)\n"
      ],
      "metadata": {
        "id": "0CTyd2UwEyNM"
      },
      "execution_count": null,
      "outputs": []
    },
    {
      "cell_type": "markdown",
      "source": [
        "##### What data splitting ratio have you used and why?"
      ],
      "metadata": {
        "id": "qjKvONjwE8ra"
      }
    },
    {
      "cell_type": "markdown",
      "source": [
        "In the given code, a test size of 0.25 (or 25%) is used for splitting the data into train and test sets using the train_test_split function from the scikit-learn library. This means that 75% of the data is used for training the model (X_train, y_train), and 25% of the data is used for testing the model (X_test, y_test).\n",
        "\n",
        "A 75%/25% split (75% for training and 25% for testing) is a commonly used ratio in many machine learning projects. It strikes a good balance between having enough data for training and having a reasonable amount of data for testing to evaluate the model's performance. The random_state parameter is set to 0 to ensure reproducibility, as the same random seed will be used for splitting the data each time the code is executed, resulting in consistent train-test splits."
      ],
      "metadata": {
        "id": "Y2lJ8cobFDb_"
      }
    },
    {
      "cell_type": "markdown",
      "source": [
        "### 5. Data Scaling"
      ],
      "metadata": {
        "id": "rMDnDkt2B6du"
      }
    },
    {
      "cell_type": "code",
      "source": [
        "# Scaling your data\n",
        "std = StandardScaler()\n",
        "X_train = std.fit_transform(X_train)\n",
        "X_test = std.transform(X_test)"
      ],
      "metadata": {
        "id": "dL9LWpySC6x_"
      },
      "execution_count": null,
      "outputs": []
    },
    {
      "cell_type": "markdown",
      "source": [
        "##### Which method have you used to scale you data and why?"
      ],
      "metadata": {
        "id": "yiiVWRdJDDil"
      }
    },
    {
      "cell_type": "markdown",
      "source": [
        "The code uses the StandardScaler method from the scikit-learn library to scale the features in the dataset. The standard scaler scales the data such that it has a mean of zero and a standard deviation of one, which helps to normalize the features and make them more comparable to each other. This method is often used in machine learning models as it can improve model performance and accuracy."
      ],
      "metadata": {
        "id": "7HPmk_OmHbDQ"
      }
    },
    {
      "cell_type": "markdown",
      "source": [
        "## ***7. ML Model Implementation***"
      ],
      "metadata": {
        "id": "VfCC591jGiD4"
      }
    },
    {
      "cell_type": "markdown",
      "source": [
        "### ML Model - 1\n",
        "Linear Regression"
      ],
      "metadata": {
        "id": "OB4l2ZhMeS1U"
      }
    },
    {
      "cell_type": "code",
      "source": [
        "\n",
        "def linear_model(model, X_train, y_train, X_test, y_test):\n",
        "\n",
        "    # Fit the model to the training data\n",
        "    model.fit(X_train, y_train)\n",
        "\n",
        "    # Get Metrics\n",
        "    y_pred_test = model.predict(X_test)\n",
        "    y_pred_train= model.predict(X_train)\n",
        "\n",
        "    mse = mean_squared_error(y_test, y_pred_test)\n",
        "    rmse = np.sqrt(mse)\n",
        "    r2 = r2_score(y_test, y_pred_test)\n",
        "    adj_r2 = 1 - (1 - r2) * ((X_test.shape[0] - 1) / (X_test.shape[0] - X_test.shape[1] - 1))\n",
        "\n",
        "    mse1 = mean_squared_error(y_train, y_pred_train)\n",
        "    rmse1 = np.sqrt(mse1)\n",
        "    r2_1 = r2_score(y_train, y_pred_train)\n",
        "    adj_r2_1 = 1 - (1 - r2_1) * ((X_train.shape[0] - 1) / (X_train.shape[0] - X_train.shape[1] - 1))\n",
        "\n",
        "\n",
        "    print('\\n================Evaluation Metrics for test=========================\\n')\n",
        "    print(\"Mean Squared Error (MSE):\", mse)\n",
        "    print(\"Root Mean Squared Error (RMSE):\", rmse)\n",
        "    print(\"R2 Score:\", r2)\n",
        "    print(\"Adjusted R2 Score:\", adj_r2)\n",
        "\n",
        "    print('\\n================Evaluation Graph for test==========================\\n')\n",
        "    plt.figure(figsize=(15, 5))\n",
        "    plt.scatter(y_test,y_pred_test)\n",
        "    plt.show()\n",
        "\n",
        "    print('\\n================Evaluation Metrics for train=========================\\n')\n",
        "    print(\"Mean Squared Error (MSE):\", mse1)\n",
        "    print(\"Root Mean Squared Error (RMSE):\", rmse1)\n",
        "    print(\"R2 Score:\", r2_1)\n",
        "    print(\"Adjusted R2 Score:\", adj_r2_1)\n",
        "\n",
        "    print('\\n================Evaluation Graph for train==========================\\n')\n",
        "    plt.figure(figsize=(15, 5))\n",
        "    plt.scatter(y_train,y_pred_train)\n",
        "    plt.show()\n"
      ],
      "metadata": {
        "id": "zZ9sGvBISNGR"
      },
      "execution_count": null,
      "outputs": []
    },
    {
      "cell_type": "code",
      "source": [
        "# ML Model - 1 Implementation\n",
        "\n",
        "linear_model(LinearRegression(), X_train, y_train, X_test, y_test)\n",
        "\n"
      ],
      "metadata": {
        "id": "7ebyywQieS1U"
      },
      "execution_count": null,
      "outputs": []
    },
    {
      "cell_type": "markdown",
      "source": [
        "#### 1. Explain the ML Model used and it's performance using Evaluation metric Score Chart."
      ],
      "metadata": {
        "id": "ArJBuiUVfxKd"
      }
    },
    {
      "cell_type": "markdown",
      "source": [
        "The ML model used is Linear Regression.\n",
        "\n",
        "The performance of the model is evaluated using several evaluation metrics:\n",
        "\n",
        "Mean Squared Error (MSE)\n",
        "Root Mean Squared Error (RMSE)\n",
        "R2 Score\n",
        "Adjusted R2 Score\n",
        "From the evaluation metric score chart, we can see that the model's performance is reasonable. The R2 score for both test and train data is above 0.6, which indicates that around 60% of the variation in the dependent variable is explained by the independent variables.\n",
        "The RMSE value is also relatively low, which means that the model's predictions are relatively close to the actual values. However, there is still scope for improvement as the model's performance can be further enhanced by fine-tuning its hyperparameters or by using more complex models."
      ],
      "metadata": {
        "id": "-gA-HjQ6K-_h"
      }
    },
    {
      "cell_type": "code",
      "source": [
        "Ridge_R = Ridge()\n",
        "\n",
        "linear_model(Ridge_R, X_train, y_train, X_test, y_test)"
      ],
      "metadata": {
        "id": "Or5alN8XA3dd"
      },
      "execution_count": null,
      "outputs": []
    },
    {
      "cell_type": "markdown",
      "source": [
        "#### 2. Cross- Validation & Hyperparameter Tuning\n",
        "\n",
        "---\n",
        "\n"
      ],
      "metadata": {
        "id": "4qY1EAkEfxKe"
      }
    },
    {
      "cell_type": "code",
      "source": [
        "# ML Model - 1 Implementation with hyperparameter optimization techniques (i.e., GridSearch CV, RandomSearch CV, Bayesian Optimization etc.)\n",
        "parameters = {'alpha': [1e-15,1e-10,1e-8,1e-5,1e-4,1e-3,1e-2,1,5,10,20,30,35,40,45,50,55,60,100,0.5,1.5,1.6,1.7,1.8,1.9]}\n",
        "Ridge_grid = GridSearchCV(Ridge_R, parameters, scoring='neg_mean_squared_error', cv=3)\n",
        "# Fit the Algorithm\n",
        "linear_model(Ridge_grid, X_train, y_train, X_test, y_test)\n",
        "# Predict on the model"
      ],
      "metadata": {
        "id": "Dy61ujd6fxKe"
      },
      "execution_count": null,
      "outputs": []
    },
    {
      "cell_type": "markdown",
      "source": [
        "##### Which hyperparameter optimization technique have you used and why?"
      ],
      "metadata": {
        "id": "PiV4Ypx8fxKe"
      }
    },
    {
      "cell_type": "markdown",
      "source": [
        "In this case, GridSearch CV was used for hyperparameter optimization. GridSearch CV is a popular technique for tuning hyperparameters by exhaustively searching over a defined parameter grid. It performs an exhaustive search over a specified parameter values for an estimator, and returns a model with the best performance based on the chosen scoring metric."
      ],
      "metadata": {
        "id": "negyGRa7fxKf"
      }
    },
    {
      "cell_type": "markdown",
      "source": [
        "##### Have you seen any improvement? Note down the improvement with updates Evaluation metric Score Chart."
      ],
      "metadata": {
        "id": "TfvqoZmBfxKf"
      }
    },
    {
      "cell_type": "markdown",
      "source": [
        "Not very much improvement but yes there is slight increase in R2 score."
      ],
      "metadata": {
        "id": "OaLui8CcfxKf"
      }
    },
    {
      "cell_type": "markdown",
      "source": [
        "### ML Model - 2"
      ],
      "metadata": {
        "id": "dJ2tPlVmpsJ0"
      }
    },
    {
      "cell_type": "code",
      "source": [
        "# ML Model - 2 Implementation\n",
        "Lasso_R = Lasso()\n",
        "# Fit the Algorithm\n",
        "linear_model(Lasso_R, X_train, y_train, X_test, y_test)"
      ],
      "metadata": {
        "id": "9y9sw2d7Q6hc"
      },
      "execution_count": null,
      "outputs": []
    },
    {
      "cell_type": "markdown",
      "source": [
        "#### 1. Explain the ML Model used and it's performance using Evaluation metric Score Chart."
      ],
      "metadata": {
        "id": "JWYfwnehpsJ1"
      }
    },
    {
      "cell_type": "markdown",
      "source": [
        "The ML model used is Lasso Regression\\.\n",
        "\n",
        "The performance of the model is evaluated using several evaluation metrics:\n",
        "\n",
        "\n",
        "From the evaluation metric score chart, we can see that the model's performance is reasonable. The R2 score for both test and train data is above 0.6, which indicates that around 60% of the variation in the dependent variable is explained by the independent variables.\n",
        "The RMSE value is also relatively low, which means that the model's predictions are relatively close to the actual values. However, there is still scope for improvement as the model's performance can be further enhanced by fine-tuning its hyperparameters or by using more complex models."
      ],
      "metadata": {
        "id": "tvzeiiQyUUrq"
      }
    },
    {
      "cell_type": "markdown",
      "source": [
        "#### 2. Cross- Validation & Hyperparameter Tuning"
      ],
      "metadata": {
        "id": "-jK_YjpMpsJ2"
      }
    },
    {
      "cell_type": "code",
      "source": [
        "# ML Model - 3 Implementation with hyperparameter optimization techniques (i.e., GridSearch CV, RandomSearch CV, Bayesian Optimization etc.)\n",
        "parameters = {'alpha': [1e-15,1e-13,1e-10,1e-8,1e-5,1e-4,1e-3,1e-2,1e-1,1,5,10,20,30,40,45,50,55,60,100,0.0014]}\n",
        "Lasso_grid = GridSearchCV(Lasso_R, parameters, scoring='neg_mean_squared_error', cv=5)\n",
        "# Fit the Algorithm\n",
        "linear_model(Lasso_grid, X_train, y_train, X_test, y_test)\n",
        "# Predict on the model"
      ],
      "metadata": {
        "id": "Dn0EOfS6psJ2"
      },
      "execution_count": null,
      "outputs": []
    },
    {
      "cell_type": "markdown",
      "source": [
        "##### Have you seen any improvement? Note down the improvement with updates Evaluation metric Score Chart."
      ],
      "metadata": {
        "id": "zVGeBEFhpsJ2"
      }
    },
    {
      "cell_type": "markdown",
      "source": [
        "Yes R2 has shows significant increase from 0.6 to 0.65 and RMS error also reduced from 7.8 to 7.3."
      ],
      "metadata": {
        "id": "BDKtOrBQpsJ3"
      }
    },
    {
      "cell_type": "markdown",
      "source": [
        "### ML Model - 3"
      ],
      "metadata": {
        "id": "Fze-IPXLpx6K"
      }
    },
    {
      "cell_type": "code",
      "source": [
        "# ML Model - 3 Implementation\n",
        "# Initalizing the Model\n",
        "Rf_R = RandomForestRegressor()\n",
        "\n",
        "# Fit the Algorithm\n",
        "linear_model(Rf_R, X_train, y_train, X_test, y_test)\n",
        "# Predict on the model"
      ],
      "metadata": {
        "id": "FFrSXAtrpx6M"
      },
      "execution_count": null,
      "outputs": []
    },
    {
      "cell_type": "markdown",
      "source": [
        "#### 1. Explain the ML Model used and it's performance using Evaluation metric Score Chart."
      ],
      "metadata": {
        "id": "7AN1z2sKpx6M"
      }
    },
    {
      "cell_type": "markdown",
      "source": [
        "The Random Forest Regressor is a powerful ensemble machine learning algorithm that combines multiple decision trees to make accurate predictions for regression tasks while mitigating overfitting.\n",
        "\n",
        "Here the R2 value is 0.87 and 0.98 respectively for test and train data. This is much better than previous models. Also the RMS error is less than 4 which is great!"
      ],
      "metadata": {
        "id": "BGgbaLpeYD2u"
      }
    },
    {
      "cell_type": "markdown",
      "source": [
        "#### 2. Cross- Validation & Hyperparameter Tuning"
      ],
      "metadata": {
        "id": "9PIHJqyupx6M"
      }
    },
    {
      "cell_type": "code",
      "source": [
        "# ML Model - 3 Implementation with hyperparameter optimization techniques (i.e., GridSearch CV, RandomSearch CV, Bayesian Optimization etc.)\n",
        "from sklearn.model_selection import RandomizedSearchCV\n",
        "parameter = {'n_estimators':[500],\n",
        "             'max_features':['sqrt'],\n",
        "             'max_depth':[120],\n",
        "              'min_samples_split':[2],\n",
        "              'min_samples_leaf':[1]}\n",
        "\n",
        "RF_grid = RandomizedSearchCV(Rf_R, parameter)\n",
        "\n",
        "# Fit the Algorithm\n",
        "linear_model(RF_grid, X_train, y_train, X_test, y_test)\n",
        "\n",
        "# Predict on the model"
      ],
      "metadata": {
        "id": "eSVXuaSKpx6M"
      },
      "execution_count": null,
      "outputs": []
    },
    {
      "cell_type": "markdown",
      "source": [
        "##### Have you seen any improvement? Note down the improvement with updates Evaluation metric Score Chart."
      ],
      "metadata": {
        "id": "Z-hykwinpx6N"
      }
    },
    {
      "cell_type": "markdown",
      "source": [
        "Slight improvement is seen in r2 values and error values"
      ],
      "metadata": {
        "id": "MzVzZC6opx6N"
      }
    },
    {
      "cell_type": "markdown",
      "source": [
        "### 1. Which Evaluation metrics did you consider for a positive business impact and why?"
      ],
      "metadata": {
        "id": "h_CCil-SKHpo"
      }
    },
    {
      "cell_type": "markdown",
      "source": [
        "\n",
        "\n",
        "*  Mean Squared Error (MSE) :Lower MSE values indicate better accuracy in    predicting demand, which can positively impact the business by providing more accurate forecasts for bike demand.\n",
        "\n",
        "*   Root Mean Squared Error (RMSE) : lower RMSE values indicate better accuracy and can positively impact the business by providing more accurate forecasts for bike demand.\n",
        "*   R2 Score : R2 values closer to 1 indicate a better fit of the model to the data, which can positively impact the business by indicating a higher level of accuracy in predicting bike demand.\n",
        "\n",
        "*   Adjusted R2 Score :  Higher adjusted R2 values indicate better model performance, which can positively impact the business by indicating a higher level of accuracy in predicting bike demand while accounting for the complexity of the model.\n"
      ],
      "metadata": {
        "id": "jHVz9hHDKFms"
      }
    },
    {
      "cell_type": "markdown",
      "source": [
        "### 2. Which ML model did you choose from the above created models as your final prediction model and why?"
      ],
      "metadata": {
        "id": "cBFFvTBNJzUa"
      }
    },
    {
      "cell_type": "markdown",
      "source": [
        "Random Forest Regressor is used as it gives the best results of the Model.The evaluation metrics of Random forest regressor considered for a positive business impact are MSE, RMSE, R2, and Adjusted R2, indicating better accuracy, precision, and model fit, which can lead to improved decision making and performance for a business."
      ],
      "metadata": {
        "id": "6ksF5Q1LKTVm"
      }
    },
    {
      "cell_type": "markdown",
      "source": [
        "### 3. Explain the model which you have used and the feature importance using any model explainability tool?"
      ],
      "metadata": {
        "id": "HvGl1hHyA_VK"
      }
    },
    {
      "cell_type": "code",
      "source": [
        "# Extract feature importances\n",
        "feature_importances = Rf_R.feature_importances_\n",
        "\n",
        "# Create a dataframe to store the feature importances\n",
        "feature_importance_df = pd.DataFrame({'Features': X_train.columns, 'Importance': feature_importances})\n",
        "feature_importance_df.sort_values(by='Importance', ascending=False)\n",
        "\n"
      ],
      "metadata": {
        "id": "ILwrF52yap1r"
      },
      "execution_count": null,
      "outputs": []
    },
    {
      "cell_type": "markdown",
      "source": [
        "*   The model used in this case is a Random Forest Regression model,The Random Forest model is trained on a dataset that includes various features such as temperature, hour, humidity, functioning day, season, month, etc., to predict the demand for bike sharing.\n",
        "*   Based on the feature importance results, we can see that the most important features in predicting bike sharing demand are \"Temperature(°C)\", \"Hour\", \"Humidity(%)\", and \"Functioning Day\", as they have relatively higher importance scores compared to other features.\n",
        "\n",
        "*   Other features such as rainfall, month, visibility,solar radiation and wind speed also contribute to the predictions, although to a lesser extent.\n",
        "*   Features such as seasons and weekday have very low or zero importance scores, indicating that they may have minimal impact on the model's predictions."
      ],
      "metadata": {
        "id": "YnvVTiIxBL-C"
      }
    },
    {
      "cell_type": "markdown",
      "source": [
        "### ***Congrats! Your model is successfully created and ready for deployment on a live server for a real user interaction !!!***"
      ],
      "metadata": {
        "id": "-Kee-DAl2viO"
      }
    },
    {
      "cell_type": "markdown",
      "source": [
        "# **Conclusion**"
      ],
      "metadata": {
        "id": "gCX9965dhzqZ"
      }
    },
    {
      "cell_type": "markdown",
      "source": [
        "Looking at the performance metrics of all the models, we can make the following observations:\n",
        "\n",
        "* Linear regression, Ridge regression, and Lasso regression have similar performance on the test set, with a relatively high RMSE. However, the adjusted R2 score is slightly lower, which indicates that the models may be overfitting to some extent.\n",
        "\n",
        "* The random forest model also have good performance on the test set with RMSE values. They also have high R2 scores of around 0.98 and 0.87.\n",
        "\n",
        "* The hyperparameter tuning did not improve the performance of regression models significantly.\n",
        "\n",
        "* The hyperparameter tuning seems to have slightly improved the model's performance, as indicated by the slightly reduced RMSE and slightly increased R2 scores on the test dataset.\n",
        "\n",
        "* The gap between the RMSE of the train and test datasets has decreased, which suggests that the overfitting has been mitigated to some extent.\n",
        "\n",
        "In conclusion, the random forest having the lowest RMSE and highest R2 value. Therefore, the random forest model may be best choice for this regression problem.\n",
        "With this we will be able to forcast the further demand of rental bikes and make schemes accordingly to increase business."
      ],
      "metadata": {
        "id": "Fjb1IsQkh3yE"
      }
    },
    {
      "cell_type": "markdown",
      "source": [
        "### ***Hurrah! You have successfully completed your Machine Learning Capstone Project !!!***"
      ],
      "metadata": {
        "id": "gIfDvo9L0UH2"
      }
    }
  ]
}